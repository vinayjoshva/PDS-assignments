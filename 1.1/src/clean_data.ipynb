{
 "cells": [
  {
   "cell_type": "code",
   "execution_count": 2,
   "id": "5e87822a-3179-49b5-8885-f54584a2c336",
   "metadata": {},
   "outputs": [],
   "source": [
    "import pandas as pd\n"
   ]
  },
  {
   "cell_type": "code",
   "execution_count": 3,
   "id": "f1ec070d-8940-472d-a4ba-6c93cb74f35c",
   "metadata": {},
   "outputs": [
    {
     "name": "stdout",
     "output_type": "stream",
     "text": [
      "   Unnamed: 0.1  Unnamed: 0 Height Weight  Age Grip Strength Frailty\n",
      "0             0           0  65.8    112   30            30       N \n",
      "1             1           1  71.5    136   19            31       N \n",
      "2             2           2  69.4    153   45            29       N \n",
      "3             3           3  68.2    142   22            28       Y \n",
      "4             4           4  67.8    144   29            24       Y \n",
      "5             5           5  68.7    123   50            26       N \n",
      "6             6           6  69.8    141   51            22       Y \n",
      "7             7           7  70.1    136   23            20       Y \n",
      "8             8           8  67.9    112   17            19       N \n",
      "9             9           9  66.8    120   39            31       N \n"
     ]
    }
   ],
   "source": [
    "data_frame = pd.read_csv('../raw_data/Frailty.csv')\n",
    "print(data_frame.to_string())"
   ]
  },
  {
   "cell_type": "code",
   "execution_count": 4,
   "id": "89b4cb66-0927-4acf-913e-a010d8a3a919",
   "metadata": {},
   "outputs": [
    {
     "data": {
      "text/plain": [
       "Unnamed: 0.1     0\n",
       "Unnamed: 0       0\n",
       "Height           0\n",
       "Weight           0\n",
       "Age              0\n",
       "Grip Strength    0\n",
       "Frailty          0\n",
       "dtype: int64"
      ]
     },
     "execution_count": 4,
     "metadata": {},
     "output_type": "execute_result"
    }
   ],
   "source": [
    "data_frame.isnull().sum()"
   ]
  },
  {
   "cell_type": "code",
   "execution_count": 6,
   "id": "163d0830-153e-49f8-a305-797cc7fd5cfa",
   "metadata": {},
   "outputs": [],
   "source": [
    "data_frame.to_csv('../clean_data/Frailty.csv')"
   ]
  },
  {
   "cell_type": "code",
   "execution_count": null,
   "id": "717494a0-34e9-432b-b24f-4cfb370fe78b",
   "metadata": {},
   "outputs": [],
   "source": []
  }
 ],
 "metadata": {
  "kernelspec": {
   "display_name": "Python 3 (ipykernel)",
   "language": "python",
   "name": "python3"
  },
  "language_info": {
   "codemirror_mode": {
    "name": "ipython",
    "version": 3
   },
   "file_extension": ".py",
   "mimetype": "text/x-python",
   "name": "python",
   "nbconvert_exporter": "python",
   "pygments_lexer": "ipython3",
   "version": "3.11.2"
  }
 },
 "nbformat": 4,
 "nbformat_minor": 5
}
