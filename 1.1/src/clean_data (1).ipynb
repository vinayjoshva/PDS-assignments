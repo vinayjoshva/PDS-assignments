{
  "cells": [
    {
      "cell_type": "code",
      "execution_count": 6,
      "id": "5e87822a-3179-49b5-8885-f54584a2c336",
      "metadata": {
        "id": "5e87822a-3179-49b5-8885-f54584a2c336"
      },
      "outputs": [],
      "source": [
        "import pandas as pd\n"
      ]
    },
    {
      "cell_type": "code",
      "source": [
        "import os\n",
        "\n",
        "# Define the folder names\n",
        "main_folder = \"/content/Q1\"\n",
        "raw_data_folder = os.path.join(main_folder, \"raw_data\")\n",
        "cleaned_data_folder = os.path.join(main_folder, \"Cleaned_data\")\n",
        "\n",
        "# Create the folders\n",
        "os.makedirs(raw_data_folder, exist_ok=True)\n",
        "os.makedirs(cleaned_data_folder, exist_ok=True)\n",
        "\n",
        "# Confirm the folders were created\n",
        "os.listdir(main_folder)\n"
      ],
      "metadata": {
        "colab": {
          "base_uri": "https://localhost:8080/"
        },
        "id": "AD5TnyqAJMrP",
        "outputId": "8cbecea2-8384-45cd-90c2-e1a1eb75d640"
      },
      "id": "AD5TnyqAJMrP",
      "execution_count": 7,
      "outputs": [
        {
          "output_type": "execute_result",
          "data": {
            "text/plain": [
              "['.ipynb_checkpoints', 'clean_data', 'Cleaned_data', 'raw_data']"
            ]
          },
          "metadata": {},
          "execution_count": 7
        }
      ]
    },
    {
      "cell_type": "code",
      "execution_count": 8,
      "id": "f1ec070d-8940-472d-a4ba-6c93cb74f35c",
      "metadata": {
        "id": "f1ec070d-8940-472d-a4ba-6c93cb74f35c",
        "outputId": "50f9b748-a662-4dd2-e362-6665f67081ce",
        "colab": {
          "base_uri": "https://localhost:8080/"
        }
      },
      "outputs": [
        {
          "output_type": "stream",
          "name": "stdout",
          "text": [
            "   Unnamed: 0.1  Unnamed: 0 Height Weight  Age Grip Strength Frailty\n",
            "0             0           0  65.8    112   30            30       N \n",
            "1             1           1  71.5    136   19            31       N \n",
            "2             2           2  69.4    153   45            29       N \n",
            "3             3           3  68.2    142   22            28       Y \n",
            "4             4           4  67.8    144   29            24       Y \n",
            "5             5           5  68.7    123   50            26       N \n",
            "6             6           6  69.8    141   51            22       Y \n",
            "7             7           7  70.1    136   23            20       Y \n",
            "8             8           8  67.9    112   17            19       N \n",
            "9             9           9  66.8    120   39            31       N \n"
          ]
        }
      ],
      "source": [
        "data_frame = pd.read_csv('Frailty(1).csv')\n",
        "print(data_frame.to_string())"
      ]
    },
    {
      "cell_type": "code",
      "execution_count": 9,
      "id": "89b4cb66-0927-4acf-913e-a010d8a3a919",
      "metadata": {
        "id": "89b4cb66-0927-4acf-913e-a010d8a3a919",
        "outputId": "76db3884-868e-4d77-85f7-5c88070bccfb",
        "colab": {
          "base_uri": "https://localhost:8080/",
          "height": 303
        }
      },
      "outputs": [
        {
          "output_type": "execute_result",
          "data": {
            "text/plain": [
              "Unnamed: 0.1     0\n",
              "Unnamed: 0       0\n",
              "Height           0\n",
              "Weight           0\n",
              "Age              0\n",
              "Grip Strength    0\n",
              "Frailty          0\n",
              "dtype: int64"
            ],
            "text/html": [
              "<div>\n",
              "<style scoped>\n",
              "    .dataframe tbody tr th:only-of-type {\n",
              "        vertical-align: middle;\n",
              "    }\n",
              "\n",
              "    .dataframe tbody tr th {\n",
              "        vertical-align: top;\n",
              "    }\n",
              "\n",
              "    .dataframe thead th {\n",
              "        text-align: right;\n",
              "    }\n",
              "</style>\n",
              "<table border=\"1\" class=\"dataframe\">\n",
              "  <thead>\n",
              "    <tr style=\"text-align: right;\">\n",
              "      <th></th>\n",
              "      <th>0</th>\n",
              "    </tr>\n",
              "  </thead>\n",
              "  <tbody>\n",
              "    <tr>\n",
              "      <th>Unnamed: 0.1</th>\n",
              "      <td>0</td>\n",
              "    </tr>\n",
              "    <tr>\n",
              "      <th>Unnamed: 0</th>\n",
              "      <td>0</td>\n",
              "    </tr>\n",
              "    <tr>\n",
              "      <th>Height</th>\n",
              "      <td>0</td>\n",
              "    </tr>\n",
              "    <tr>\n",
              "      <th>Weight</th>\n",
              "      <td>0</td>\n",
              "    </tr>\n",
              "    <tr>\n",
              "      <th>Age</th>\n",
              "      <td>0</td>\n",
              "    </tr>\n",
              "    <tr>\n",
              "      <th>Grip Strength</th>\n",
              "      <td>0</td>\n",
              "    </tr>\n",
              "    <tr>\n",
              "      <th>Frailty</th>\n",
              "      <td>0</td>\n",
              "    </tr>\n",
              "  </tbody>\n",
              "</table>\n",
              "</div><br><label><b>dtype:</b> int64</label>"
            ]
          },
          "metadata": {},
          "execution_count": 9
        }
      ],
      "source": [
        "data_frame.isnull().sum()"
      ]
    },
    {
      "cell_type": "code",
      "execution_count": 11,
      "id": "163d0830-153e-49f8-a305-797cc7fd5cfa",
      "metadata": {
        "id": "163d0830-153e-49f8-a305-797cc7fd5cfa"
      },
      "outputs": [],
      "source": [
        "data_frame.to_csv('Q1/Cleaned_data/cleaned_data.csv')"
      ]
    }
  ],
  "metadata": {
    "kernelspec": {
      "display_name": "Python 3 (ipykernel)",
      "language": "python",
      "name": "python3"
    },
    "language_info": {
      "codemirror_mode": {
        "name": "ipython",
        "version": 3
      },
      "file_extension": ".py",
      "mimetype": "text/x-python",
      "name": "python",
      "nbconvert_exporter": "python",
      "pygments_lexer": "ipython3",
      "version": "3.11.2"
    },
    "colab": {
      "provenance": []
    }
  },
  "nbformat": 4,
  "nbformat_minor": 5
}